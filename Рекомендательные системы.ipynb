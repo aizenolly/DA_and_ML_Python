{
 "cells": [
  {
   "cell_type": "code",
   "execution_count": 1,
   "metadata": {
    "collapsed": true
   },
   "outputs": [],
   "source": [
    "import pandas as pd\n",
    "import numpy as np\n",
    "from collections import Counter"
   ]
  },
  {
   "cell_type": "code",
   "execution_count": 2,
   "metadata": {
    "collapsed": true
   },
   "outputs": [],
   "source": [
    "train = [[_.split(',') for _ in item.rstrip('\\n').split(';')] for item in open('coursera_sessions_train.txt').readlines()]\n",
    "test = [[_.split(',') for _ in item.rstrip('\\n').split(';')]  for item in open('coursera_sessions_test.txt').readlines()]"
   ]
  },
  {
   "cell_type": "code",
   "execution_count": 37,
   "metadata": {
    "collapsed": true
   },
   "outputs": [],
   "source": [
    "def write_answer(filename, result):\n",
    "    f = open(filename, 'w')\n",
    "    f.write(' '.join(str(round(_, 2)) for _ in result))\n",
    "    f.close()"
   ]
  },
  {
   "cell_type": "code",
   "execution_count": 3,
   "metadata": {},
   "outputs": [],
   "source": [
    "def get_counters_for_sample(sample):\n",
    "    see = []\n",
    "    buy = []\n",
    "    \n",
    "    for item in sample:\n",
    "        see += item[0]\n",
    "        buy += item[1]\n",
    "    \n",
    "    return Counter(see), Counter(buy)"
   ]
  },
  {
   "cell_type": "code",
   "execution_count": 13,
   "metadata": {
    "collapsed": true
   },
   "outputs": [],
   "source": [
    "def first_index(lines):\n",
    "    session = dict()\n",
    "    for index, item in enumerate(lines):\n",
    "        if item not in session:\n",
    "            session[item] = index\n",
    "    return session"
   ]
  },
  {
   "cell_type": "code",
   "execution_count": 33,
   "metadata": {},
   "outputs": [],
   "source": [
    "def sorted_see(see, count_see):\n",
    "    return list(pd.DataFrame(\n",
    "        [[key, value, count_see.get(key, 0)] for key, value in first_index(see).iteritems()],\n",
    "        columns=['item', 'index', 'count']\n",
    "    ).sort_values(['count', 'index'], ascending=[False, True]).item.values)"
   ]
  },
  {
   "cell_type": "code",
   "execution_count": 18,
   "metadata": {
    "collapsed": true
   },
   "outputs": [],
   "source": [
    "def intersection(left, right):\n",
    "    return len(set(left).intersection(set(right)))"
   ]
  },
  {
   "cell_type": "code",
   "execution_count": 68,
   "metadata": {},
   "outputs": [],
   "source": [
    "def calculate(sample, count_see):\n",
    "    precision_1 = []\n",
    "    recall_1 = []\n",
    "    precision_5 = []\n",
    "    recall_5 = []\n",
    "    for see, buy in sample:\n",
    "        if buy == ['']:\n",
    "            continue\n",
    "        \n",
    "\n",
    "        see = sorted_see(see, count_see)\n",
    "        precision_1.append(intersection([see[0]], buy))\n",
    "        recall_1.append(float(intersection([see[0]], buy))/len(buy))\n",
    "        precision_5.append(float(intersection(see[:5], buy))/5)\n",
    "        recall_5.append(float(intersection(see[:5], buy))/len(buy))\n",
    "    return map(np.average, (recall_1, precision_1, recall_5, precision_5))"
   ]
  },
  {
   "cell_type": "code",
   "execution_count": 7,
   "metadata": {
    "collapsed": true
   },
   "outputs": [],
   "source": [
    "count_see, count_buy = get_counters_for_sample(train)"
   ]
  },
  {
   "cell_type": "code",
   "execution_count": 69,
   "metadata": {
    "collapsed": true
   },
   "outputs": [],
   "source": [
    "write_answer('answer1', calculate(train, count_see))\n",
    "write_answer('answer2', calculate(test, count_see))\n",
    "write_answer('answer3', calculate(train, count_buy))\n",
    "write_answer('answer4', calculate(test, count_buy))"
   ]
  }
 ],
 "metadata": {
  "kernelspec": {
   "display_name": "Python 2",
   "language": "python",
   "name": "python2"
  },
  "language_info": {
   "codemirror_mode": {
    "name": "ipython",
    "version": 2
   },
   "file_extension": ".py",
   "mimetype": "text/x-python",
   "name": "python",
   "nbconvert_exporter": "python",
   "pygments_lexer": "ipython2",
   "version": "2.7.13"
  }
 },
 "nbformat": 4,
 "nbformat_minor": 2
}
